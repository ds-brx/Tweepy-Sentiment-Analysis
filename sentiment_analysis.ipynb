{
 "metadata": {
  "language_info": {
   "codemirror_mode": {
    "name": "ipython",
    "version": 3
   },
   "file_extension": ".py",
   "mimetype": "text/x-python",
   "name": "python",
   "nbconvert_exporter": "python",
   "pygments_lexer": "ipython3",
   "version": "3.8.5-final"
  },
  "orig_nbformat": 2,
  "kernelspec": {
   "name": "python3",
   "display_name": "Python 3",
   "language": "python"
  }
 },
 "nbformat": 4,
 "nbformat_minor": 2,
 "cells": [
  {
   "cell_type": "code",
   "execution_count": 28,
   "metadata": {},
   "outputs": [],
   "source": [
    "import nltk\n",
    "from nltk import *\n",
    "from nltk.corpus import stopwords\n",
    "import textblob\n",
    "from textblob import TextBlob\n",
    "from wordcloud import WordCloud,STOPWORDS\n",
    "from sklearn.feature_extraction.text import TfidfVectorizer\n",
    "from sklearn.pipeline import Pipeline\n",
    "from sklearn.metrics import f1_score\n",
    "import pandas as pd\n",
    "import numpy as np \n",
    "import appCredentials\n",
    "import Stream\n",
    "import preprocessor\n",
    "from sklearn.linear_model import LogisticRegression\n",
    "from sklearn.metrics import f1_score"
   ]
  },
  {
   "cell_type": "code",
   "execution_count": 5,
   "metadata": {},
   "outputs": [],
   "source": [
    "t1 = Stream.Twitter_Client()\n",
    "api = t1.client_api()\n",
    "tweets = api.user_timeline(screen_name=\"AOC\",count=100)"
   ]
  },
  {
   "cell_type": "code",
   "execution_count": 6,
   "metadata": {},
   "outputs": [
    {
     "output_type": "execute_result",
     "data": {
      "text/plain": [
       "                                               tweet                   id  \\\n",
       "0  Lastly, if you’re comfortable w including your...  1362105110080405504   \n",
       "1  You can be clear about your question: “Does Re...  1362103716816572422   \n",
       "2  It can feel a little intimidating to call your...  1362102614779953153   \n",
       "3  (Care much about a given issue, that is)\\n\\nAl...  1362101162753859585   \n",
       "4  If you feel your rep is doing the right thing,...  1362100506118791169   \n",
       "\n",
       "   len                date              source  likes  retweets  \n",
       "0  140 2021-02-17 18:22:19  Twitter for iPhone   2601       190  \n",
       "1  140 2021-02-17 18:16:47  Twitter for iPhone   3253       267  \n",
       "2  140 2021-02-17 18:12:24  Twitter for iPhone   2497       268  \n",
       "3  140 2021-02-17 18:06:38  Twitter for iPhone   1805       165  \n",
       "4  144 2021-02-17 18:04:01  Twitter for iPhone   2542       260  "
      ],
      "text/html": "<div>\n<style scoped>\n    .dataframe tbody tr th:only-of-type {\n        vertical-align: middle;\n    }\n\n    .dataframe tbody tr th {\n        vertical-align: top;\n    }\n\n    .dataframe thead th {\n        text-align: right;\n    }\n</style>\n<table border=\"1\" class=\"dataframe\">\n  <thead>\n    <tr style=\"text-align: right;\">\n      <th></th>\n      <th>tweet</th>\n      <th>id</th>\n      <th>len</th>\n      <th>date</th>\n      <th>source</th>\n      <th>likes</th>\n      <th>retweets</th>\n    </tr>\n  </thead>\n  <tbody>\n    <tr>\n      <th>0</th>\n      <td>Lastly, if you’re comfortable w including your...</td>\n      <td>1362105110080405504</td>\n      <td>140</td>\n      <td>2021-02-17 18:22:19</td>\n      <td>Twitter for iPhone</td>\n      <td>2601</td>\n      <td>190</td>\n    </tr>\n    <tr>\n      <th>1</th>\n      <td>You can be clear about your question: “Does Re...</td>\n      <td>1362103716816572422</td>\n      <td>140</td>\n      <td>2021-02-17 18:16:47</td>\n      <td>Twitter for iPhone</td>\n      <td>3253</td>\n      <td>267</td>\n    </tr>\n    <tr>\n      <th>2</th>\n      <td>It can feel a little intimidating to call your...</td>\n      <td>1362102614779953153</td>\n      <td>140</td>\n      <td>2021-02-17 18:12:24</td>\n      <td>Twitter for iPhone</td>\n      <td>2497</td>\n      <td>268</td>\n    </tr>\n    <tr>\n      <th>3</th>\n      <td>(Care much about a given issue, that is)\\n\\nAl...</td>\n      <td>1362101162753859585</td>\n      <td>140</td>\n      <td>2021-02-17 18:06:38</td>\n      <td>Twitter for iPhone</td>\n      <td>1805</td>\n      <td>165</td>\n    </tr>\n    <tr>\n      <th>4</th>\n      <td>If you feel your rep is doing the right thing,...</td>\n      <td>1362100506118791169</td>\n      <td>144</td>\n      <td>2021-02-17 18:04:01</td>\n      <td>Twitter for iPhone</td>\n      <td>2542</td>\n      <td>260</td>\n    </tr>\n  </tbody>\n</table>\n</div>"
     },
     "metadata": {},
     "execution_count": 6
    }
   ],
   "source": [
    "df = pd.DataFrame(data=[tweet.text for tweet in tweets],columns=[\"tweet\"])\n",
    "df['id'] = np.array([tweet.id for tweet in tweets])\n",
    "df['len'] = np.array([len(tweet.text) for tweet in tweets])\n",
    "df['date'] = np.array([tweet.created_at for tweet in tweets])\n",
    "df['source'] = np.array([tweet.source for tweet in tweets])\n",
    "df['likes'] = np.array([tweet.favorite_count for tweet in tweets])\n",
    "df['retweets'] = np.array([tweet.retweet_count for tweet in tweets])\n",
    "df.head()"
   ]
  },
  {
   "cell_type": "code",
   "execution_count": 7,
   "metadata": {},
   "outputs": [],
   "source": [
    "df['stemmed_text'] = preprocessor.stem_clean_text(df)"
   ]
  },
  {
   "cell_type": "code",
   "execution_count": 8,
   "metadata": {},
   "outputs": [],
   "source": [
    "df['lemmatized_text'] = preprocessor.lemmatize_clean_text(df)"
   ]
  },
  {
   "cell_type": "code",
   "execution_count": 9,
   "metadata": {},
   "outputs": [],
   "source": [
    "df['sub'],df['pol'],df['sen'] = preprocessor.sentiment_polarity(df,'lemmatized_text')"
   ]
  },
  {
   "cell_type": "code",
   "execution_count": 10,
   "metadata": {},
   "outputs": [
    {
     "output_type": "execute_result",
     "data": {
      "text/plain": [
       "                                               tweet                   id  \\\n",
       "0  Lastly, if you’re comfortable w including your...  1362105110080405504   \n",
       "1  You can be clear about your question: “Does Re...  1362103716816572422   \n",
       "2  It can feel a little intimidating to call your...  1362102614779953153   \n",
       "3  (Care much about a given issue, that is)\\n\\nAl...  1362101162753859585   \n",
       "4  If you feel your rep is doing the right thing,...  1362100506118791169   \n",
       "\n",
       "   len                date              source  likes  retweets  \\\n",
       "0  140 2021-02-17 18:22:19  Twitter for iPhone   2601       190   \n",
       "1  140 2021-02-17 18:16:47  Twitter for iPhone   3253       267   \n",
       "2  140 2021-02-17 18:12:24  Twitter for iPhone   2497       268   \n",
       "3  140 2021-02-17 18:06:38  Twitter for iPhone   1805       165   \n",
       "4  144 2021-02-17 18:04:01  Twitter for iPhone   2542       260   \n",
       "\n",
       "                                        stemmed_text  \\\n",
       "0  lastli comfort w includ person stori help lot ...   \n",
       "1  clear question rep support full student loan f...   \n",
       "2  feel littl intimid call rep offic st time tota...   \n",
       "3  care much given issu altern rep sound fenc def...   \n",
       "4  feel rep right thing call thank show district ...   \n",
       "\n",
       "                                     lemmatized_text       sub       pol  sen  \n",
       "0  lastly   comfortable w including personal stor...  0.550000  0.200000    1  \n",
       "1  clear question   rep support full student loan...  0.466667  0.225000    1  \n",
       "2  feel little intimidating call rep   office  st...  0.500000  0.114583    1  \n",
       "3  care much given issue alternatively rep sound ...  0.300000  0.300000    1  \n",
       "4  feel rep right thing calling thank show distri...  0.535714  0.285714    1  "
      ],
      "text/html": "<div>\n<style scoped>\n    .dataframe tbody tr th:only-of-type {\n        vertical-align: middle;\n    }\n\n    .dataframe tbody tr th {\n        vertical-align: top;\n    }\n\n    .dataframe thead th {\n        text-align: right;\n    }\n</style>\n<table border=\"1\" class=\"dataframe\">\n  <thead>\n    <tr style=\"text-align: right;\">\n      <th></th>\n      <th>tweet</th>\n      <th>id</th>\n      <th>len</th>\n      <th>date</th>\n      <th>source</th>\n      <th>likes</th>\n      <th>retweets</th>\n      <th>stemmed_text</th>\n      <th>lemmatized_text</th>\n      <th>sub</th>\n      <th>pol</th>\n      <th>sen</th>\n    </tr>\n  </thead>\n  <tbody>\n    <tr>\n      <th>0</th>\n      <td>Lastly, if you’re comfortable w including your...</td>\n      <td>1362105110080405504</td>\n      <td>140</td>\n      <td>2021-02-17 18:22:19</td>\n      <td>Twitter for iPhone</td>\n      <td>2601</td>\n      <td>190</td>\n      <td>lastli comfort w includ person stori help lot ...</td>\n      <td>lastly   comfortable w including personal stor...</td>\n      <td>0.550000</td>\n      <td>0.200000</td>\n      <td>1</td>\n    </tr>\n    <tr>\n      <th>1</th>\n      <td>You can be clear about your question: “Does Re...</td>\n      <td>1362103716816572422</td>\n      <td>140</td>\n      <td>2021-02-17 18:16:47</td>\n      <td>Twitter for iPhone</td>\n      <td>3253</td>\n      <td>267</td>\n      <td>clear question rep support full student loan f...</td>\n      <td>clear question   rep support full student loan...</td>\n      <td>0.466667</td>\n      <td>0.225000</td>\n      <td>1</td>\n    </tr>\n    <tr>\n      <th>2</th>\n      <td>It can feel a little intimidating to call your...</td>\n      <td>1362102614779953153</td>\n      <td>140</td>\n      <td>2021-02-17 18:12:24</td>\n      <td>Twitter for iPhone</td>\n      <td>2497</td>\n      <td>268</td>\n      <td>feel littl intimid call rep offic st time tota...</td>\n      <td>feel little intimidating call rep   office  st...</td>\n      <td>0.500000</td>\n      <td>0.114583</td>\n      <td>1</td>\n    </tr>\n    <tr>\n      <th>3</th>\n      <td>(Care much about a given issue, that is)\\n\\nAl...</td>\n      <td>1362101162753859585</td>\n      <td>140</td>\n      <td>2021-02-17 18:06:38</td>\n      <td>Twitter for iPhone</td>\n      <td>1805</td>\n      <td>165</td>\n      <td>care much given issu altern rep sound fenc def...</td>\n      <td>care much given issue alternatively rep sound ...</td>\n      <td>0.300000</td>\n      <td>0.300000</td>\n      <td>1</td>\n    </tr>\n    <tr>\n      <th>4</th>\n      <td>If you feel your rep is doing the right thing,...</td>\n      <td>1362100506118791169</td>\n      <td>144</td>\n      <td>2021-02-17 18:04:01</td>\n      <td>Twitter for iPhone</td>\n      <td>2542</td>\n      <td>260</td>\n      <td>feel rep right thing call thank show district ...</td>\n      <td>feel rep right thing calling thank show distri...</td>\n      <td>0.535714</td>\n      <td>0.285714</td>\n      <td>1</td>\n    </tr>\n  </tbody>\n</table>\n</div>"
     },
     "metadata": {},
     "execution_count": 10
    }
   ],
   "source": [
    "df.head()"
   ]
  },
  {
   "cell_type": "code",
   "execution_count": null,
   "metadata": {},
   "outputs": [],
   "source": []
  }
 ]
}